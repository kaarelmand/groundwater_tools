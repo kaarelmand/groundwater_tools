{
 "cells": [
  {
   "cell_type": "code",
   "execution_count": 2,
   "metadata": {},
   "outputs": [],
   "source": [
    "from test_marinelli import testpit, testpit_commonunits\n",
    "#import marinelli\n",
    "#import matplotlib.pyplot as plt\n",
    "#import numpy as np\n",
    "#import pandas as pd\n",
    "\n",
    "%load_ext autoreload\n",
    "%autoreload 2"
   ]
  },
  {
   "cell_type": "code",
   "execution_count": 7,
   "metadata": {},
   "outputs": [
    {
     "data": {
      "text/plain": [
       "'PitFlowCommonUnits(\\ncond_h_md=20,\\nrecharge_mm_yr=76.10000000000001,\\narea=4000,\\ndrawdown_stab=6,\\ndrawdown_edge=0,\\nanisotropy=1,\\ndepth_pitlake=0,\\n)'"
      ]
     },
     "execution_count": 7,
     "metadata": {},
     "output_type": "execute_result"
    }
   ],
   "source": [
    "testpit_commonunits.__repr__()"
   ]
  }
 ],
 "metadata": {
  "kernelspec": {
   "display_name": "groundwater2",
   "language": "python",
   "name": "python3"
  },
  "language_info": {
   "codemirror_mode": {
    "name": "ipython",
    "version": 3
   },
   "file_extension": ".py",
   "mimetype": "text/x-python",
   "name": "python",
   "nbconvert_exporter": "python",
   "pygments_lexer": "ipython3",
   "version": "3.11.9"
  }
 },
 "nbformat": 4,
 "nbformat_minor": 2
}
